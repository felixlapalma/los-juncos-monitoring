{
 "cells": [
  {
   "cell_type": "markdown",
   "id": "ccb0973c",
   "metadata": {},
   "source": [
    "# Los Juncos - Download\n"
   ]
  },
  {
   "cell_type": "code",
   "execution_count": 3,
   "id": "a3e3bbbb",
   "metadata": {},
   "outputs": [],
   "source": [
    "import os\n",
    "import sys\n",
    "import pandas as pd\n",
    "#\n",
    "import warnings\n",
    "#\n",
    "warnings.filterwarnings(\"ignore\", category=RuntimeWarning) "
   ]
  },
  {
   "cell_type": "code",
   "execution_count": 2,
   "id": "70d2dea8",
   "metadata": {},
   "outputs": [],
   "source": [
    "from eo_forge.utils.downloader import bucket_images_downloader,gcSatImg"
   ]
  },
  {
   "cell_type": "markdown",
   "id": "32e111d7",
   "metadata": {},
   "source": [
    "### Configurations"
   ]
  },
  {
   "cell_type": "code",
   "execution_count": 7,
   "id": "ea33859d-0390-43d5-b922-68edc47041ff",
   "metadata": {},
   "outputs": [],
   "source": [
    "IMAGES_RAW='/data/sat-images/los-juncos'\n",
    "os.makedirs(IMAGES_RAW,exist_ok=True)\n",
    "BANDS_L5=['B1','B2','B3','B4','B5']\n",
    "BANDS_L8=['B2','B3','B4','B5','B6']"
   ]
  },
  {
   "cell_type": "markdown",
   "id": "b2beecdb",
   "metadata": {
    "tags": []
   },
   "source": [
    "### Download images"
   ]
  },
  {
   "cell_type": "code",
   "execution_count": 8,
   "id": "1ec2773c-583d-4f3a-ab30-46e8c577c91e",
   "metadata": {},
   "outputs": [],
   "source": [
    "l5=pd.read_csv('./landsat5-images.csv')"
   ]
  },
  {
   "cell_type": "code",
   "execution_count": 9,
   "id": "de81c934",
   "metadata": {
    "tags": []
   },
   "outputs": [],
   "source": [
    "# Now Download them\n",
    "bid=bucket_images_downloader(spacecraft='L5',bands=BANDS_L5)\n",
    "bid.execute(l5['base-url'].to_list(),arxive=IMAGES_RAW,max_proc_thread=5,force_download=False)"
   ]
  },
  {
   "cell_type": "code",
   "execution_count": 10,
   "id": "5903a1bc-a5ff-4851-b25e-e199154076ce",
   "metadata": {},
   "outputs": [],
   "source": [
    "l8=pd.read_csv('./landsat8-images.csv')"
   ]
  },
  {
   "cell_type": "code",
   "execution_count": 11,
   "id": "e933d8ca-741e-4ca1-b978-f3b6ef6a701a",
   "metadata": {},
   "outputs": [],
   "source": [
    "# Now Download them\n",
    "bid=bucket_images_downloader(spacecraft='L8',bands=BANDS_L8)\n",
    "bid.execute(l8['base-url'].to_list(),arxive=IMAGES_RAW,max_proc_thread=3,force_download=False)"
   ]
  },
  {
   "cell_type": "code",
   "execution_count": null,
   "id": "2c4d0527-525c-48cb-9784-ab7916ccab0e",
   "metadata": {},
   "outputs": [],
   "source": []
  }
 ],
 "metadata": {
  "interpreter": {
   "hash": "4c78f1f64d2c4342f66d9fb6b32ba24e0b7f5d27c9741402c1c09b132e667596"
  },
  "kernelspec": {
   "display_name": "Python 3 (ipykernel)",
   "language": "python",
   "name": "python3"
  },
  "language_info": {
   "codemirror_mode": {
    "name": "ipython",
    "version": 3
   },
   "file_extension": ".py",
   "mimetype": "text/x-python",
   "name": "python",
   "nbconvert_exporter": "python",
   "pygments_lexer": "ipython3",
   "version": "3.8.10"
  }
 },
 "nbformat": 4,
 "nbformat_minor": 5
}
